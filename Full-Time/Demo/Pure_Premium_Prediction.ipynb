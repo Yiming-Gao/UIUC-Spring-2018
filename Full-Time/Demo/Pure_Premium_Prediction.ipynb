{
 "cells": [
  {
   "cell_type": "markdown",
   "metadata": {
    "collapsed": true
   },
   "source": [
    "# Pure Premium Prediction\n",
    "\n",
    "### Introduction\n",
    "\n",
    "The most common types of ratemaking models in the insurance industry are frequency, severity, and pure premium\n",
    "models. Frequency models predict how often claims are made, and severity models predict claim amounts. The term\n",
    "pure premium is unique to insurance; it is the portion of the company’s expected cost that is “purely” attributed to loss. Pure premium does not include the general expense of doing business, such as overhead and commissions. Traditionally, the Tweedie distribution is used to model pure premium in a generalized linear model framework (GLM).\n",
    "\n",
    "XGBoost has become incredibly popular on Kaggle in the last year for any problems dealing with structured data and accuracy predictions. Random forest was also incredibly popular on Kaggle few years ago. Let's play with both models using insurance data to model the pure premium."
   ]
  },
  {
   "cell_type": "markdown",
   "metadata": {},
   "source": [
    "### Dataset description\n",
    "\n",
    "- Dataset used in this code: `claim_history.csv`\n",
    "- The `claim_history.csv` dataset comes from the help library of SAS Enterprise-Miner version 7.1\n",
    "- Data description: \n",
    "    - observations: 10302\n",
    "    - Variables: 27\n",
    "\n",
    "Variable description:\n",
    "    \n",
    "|#\t|Variable\t|Label                            |\n",
    "|---|-----------|---------------------------------|\n",
    "|1\t|ID\t        |Identification#                  |\n",
    "|2\t|KIDSDRIV\t|#Driving Children                |\n",
    "|3\t|BIRTH\t    |Date of Birth                    | \n",
    "|4\t|AGE\t    |Age               \n",
    "|5\t|HOMEKIDS\t|#Children @Home\n",
    "|6\t|YOJ\t    |Years on Job\n",
    "|7\t|INCOME\t    |Income\n",
    "|8\t|PARENT1\t|Single Parent\n",
    "|9\t|HOME_VAL\t|Home Value\n",
    "|10\t|MSTATUS\t|Marital Status\n",
    "|11\t|GENDER\t    |Driver Gender\n",
    "|12\t|EDUCATION\t|Max Education Level\n",
    "|13\t|OCCUPATION\t|Driver Occupation\n",
    "|14\t|TRAVTIME\t|Distance to Work\n",
    "|15\t|CAR_USE\t|Vehicle Use\n",
    "|16\t|BLUEBOOK\t|Value of Vehicle\n",
    "|17\t|TIF\t    |Time in Force\n",
    "|18\t|CAR_TYPE\t|Type of Car\n",
    "|19\t|RED_CAR\t|A Red Car\n",
    "|20\t|OLDCLAIM\t|Total Claims(Past 5 Years)\n",
    "|21\t|CLM_FREQ\t|#Claims(Past 5 Years)\n",
    "|22\t|REVOKED\t|License Revoked (Past 7 Years)\n",
    "|23\t|MVR_PTS\t|Motor Vehicle Record Points\n",
    "|24\t|CLM_AMT\t|Claim Amount\n",
    "|25\t|CAR_AGE\t|Vehicle Age\n",
    "|26\t|CLAIM_FLAG\t|Claim Indicator\n",
    "|27\t|URBANICITY\t|Home/Work Area"
   ]
  },
  {
   "cell_type": "markdown",
   "metadata": {},
   "source": [
    "### Getting and Preprocessing the Data\n",
    "\n",
    "1. Load packages and data\n",
    "2. Drop unuseful features\n",
    "3. Treatment of missing observations\n",
    "4. Transform some features from continuous to categorical\n",
    "5. Transform some categorical features into dummy variables\n",
    "6. Clean some new features names\n",
    "7. Scaling target variables\n",
    "8. Splitting the data into training, testing, and validation sets\n",
    "\n",
    "##### Load packages and data\n",
    "\n",
    "First load the needed packages:"
   ]
  },
  {
   "cell_type": "code",
   "execution_count": 1,
   "metadata": {
    "collapsed": true
   },
   "outputs": [],
   "source": [
    "import warnings\n",
    "warnings.filterwarnings('ignore')"
   ]
  },
  {
   "cell_type": "code",
   "execution_count": 2,
   "metadata": {
    "collapsed": false
   },
   "outputs": [
    {
     "name": "stderr",
     "output_type": "stream",
     "text": [
      "/anaconda/lib/python2.7/site-packages/sklearn/cross_validation.py:41: DeprecationWarning: This module was deprecated in version 0.18 in favor of the model_selection module into which all the refactored classes and functions are moved. Also note that the interface of the new CV iterators are different from that of this module. This module will be removed in 0.20.\n",
      "  \"This module will be removed in 0.20.\", DeprecationWarning)\n"
     ]
    }
   ],
   "source": [
    "import numpy as np\n",
    "import pandas as pd\n",
    "import scipy as scipy\n",
    "import pylab as pylab\n",
    "import seaborn as sns\n",
    "from xgboost import XGBRegressor\n",
    "from sklearn.ensemble import RandomForestRegressor\n",
    "from sklearn.metrics import mean_absolute_error\n",
    "%matplotlib inline"
   ]
  },
  {
   "cell_type": "markdown",
   "metadata": {},
   "source": [
    "Next, load the CSV file as a Pandas data frame:"
   ]
  },
  {
   "cell_type": "code",
   "execution_count": 37,
   "metadata": {
    "collapsed": false
   },
   "outputs": [],
   "source": [
    "claims = pd.read_csv('claim_history.csv')"
   ]
  },
  {
   "cell_type": "markdown",
   "metadata": {},
   "source": [
    "Let's take a look to the data:"
   ]
  },
  {
   "cell_type": "code",
   "execution_count": 38,
   "metadata": {
    "collapsed": false
   },
   "outputs": [
    {
     "name": "stdout",
     "output_type": "stream",
     "text": [
      "<class 'pandas.core.frame.DataFrame'>\n",
      "RangeIndex: 10302 entries, 0 to 10301\n",
      "Data columns (total 27 columns):\n",
      "ID            10302 non-null int64\n",
      "KIDSDRIV      10302 non-null int64\n",
      "BIRTH         10302 non-null object\n",
      "AGE           10295 non-null float64\n",
      "HOMEKIDS      10302 non-null int64\n",
      "YOJ           9754 non-null float64\n",
      "INCOME        9732 non-null object\n",
      "PARENT1       10302 non-null object\n",
      "HOME_VAL      9727 non-null object\n",
      "MSTATUS       10302 non-null object\n",
      "GENDER        10302 non-null object\n",
      "EDUCATION     10302 non-null object\n",
      "OCCUPATION    9637 non-null object\n",
      "TRAVTIME      10302 non-null int64\n",
      "CAR_USE       10302 non-null object\n",
      "BLUEBOOK      10302 non-null object\n",
      "TIF           10302 non-null int64\n",
      "CAR_TYPE      10302 non-null object\n",
      "RED_CAR       10302 non-null object\n",
      "OLDCLAIM      10302 non-null object\n",
      "CLM_FREQ      10302 non-null int64\n",
      "REVOKED       10302 non-null object\n",
      "MVR_PTS       10302 non-null int64\n",
      "CLM_AMT       10302 non-null object\n",
      "CAR_AGE       9663 non-null float64\n",
      "CLAIM_FLAG    10302 non-null int64\n",
      "URBANICITY    10302 non-null object\n",
      "dtypes: float64(3), int64(8), object(16)\n",
      "memory usage: 2.1+ MB\n"
     ]
    }
   ],
   "source": [
    "claims.info()"
   ]
  },
  {
   "cell_type": "markdown",
   "metadata": {},
   "source": [
    "There are 47 columns. The target variable is 'CLM_AMT'. Let's go deeper into the data:"
   ]
  },
  {
   "cell_type": "code",
   "execution_count": 39,
   "metadata": {
    "collapsed": false
   },
   "outputs": [
    {
     "data": {
      "text/html": [
       "<div>\n",
       "<style>\n",
       "    .dataframe thead tr:only-child th {\n",
       "        text-align: right;\n",
       "    }\n",
       "\n",
       "    .dataframe thead th {\n",
       "        text-align: left;\n",
       "    }\n",
       "\n",
       "    .dataframe tbody tr th {\n",
       "        vertical-align: top;\n",
       "    }\n",
       "</style>\n",
       "<table border=\"1\" class=\"dataframe\">\n",
       "  <thead>\n",
       "    <tr style=\"text-align: right;\">\n",
       "      <th></th>\n",
       "      <th>ID</th>\n",
       "      <th>KIDSDRIV</th>\n",
       "      <th>BIRTH</th>\n",
       "      <th>AGE</th>\n",
       "      <th>HOMEKIDS</th>\n",
       "      <th>YOJ</th>\n",
       "      <th>INCOME</th>\n",
       "      <th>PARENT1</th>\n",
       "      <th>HOME_VAL</th>\n",
       "      <th>MSTATUS</th>\n",
       "      <th>...</th>\n",
       "      <th>CAR_TYPE</th>\n",
       "      <th>RED_CAR</th>\n",
       "      <th>OLDCLAIM</th>\n",
       "      <th>CLM_FREQ</th>\n",
       "      <th>REVOKED</th>\n",
       "      <th>MVR_PTS</th>\n",
       "      <th>CLM_AMT</th>\n",
       "      <th>CAR_AGE</th>\n",
       "      <th>CLAIM_FLAG</th>\n",
       "      <th>URBANICITY</th>\n",
       "    </tr>\n",
       "  </thead>\n",
       "  <tbody>\n",
       "    <tr>\n",
       "      <th>0</th>\n",
       "      <td>63581743</td>\n",
       "      <td>0</td>\n",
       "      <td>16MAR39</td>\n",
       "      <td>60.0</td>\n",
       "      <td>0</td>\n",
       "      <td>11.0</td>\n",
       "      <td>$67,349</td>\n",
       "      <td>No</td>\n",
       "      <td>$0</td>\n",
       "      <td>z_No</td>\n",
       "      <td>...</td>\n",
       "      <td>Minivan</td>\n",
       "      <td>yes</td>\n",
       "      <td>$4,461</td>\n",
       "      <td>2</td>\n",
       "      <td>No</td>\n",
       "      <td>3</td>\n",
       "      <td>$0</td>\n",
       "      <td>18.0</td>\n",
       "      <td>0</td>\n",
       "      <td>Highly Urban/ Urban</td>\n",
       "    </tr>\n",
       "    <tr>\n",
       "      <th>1</th>\n",
       "      <td>132761049</td>\n",
       "      <td>0</td>\n",
       "      <td>21JAN56</td>\n",
       "      <td>43.0</td>\n",
       "      <td>0</td>\n",
       "      <td>11.0</td>\n",
       "      <td>$91,449</td>\n",
       "      <td>No</td>\n",
       "      <td>$257,252</td>\n",
       "      <td>z_No</td>\n",
       "      <td>...</td>\n",
       "      <td>Minivan</td>\n",
       "      <td>yes</td>\n",
       "      <td>$0</td>\n",
       "      <td>0</td>\n",
       "      <td>No</td>\n",
       "      <td>0</td>\n",
       "      <td>$0</td>\n",
       "      <td>1.0</td>\n",
       "      <td>0</td>\n",
       "      <td>Highly Urban/ Urban</td>\n",
       "    </tr>\n",
       "    <tr>\n",
       "      <th>2</th>\n",
       "      <td>921317019</td>\n",
       "      <td>0</td>\n",
       "      <td>18NOV51</td>\n",
       "      <td>48.0</td>\n",
       "      <td>0</td>\n",
       "      <td>11.0</td>\n",
       "      <td>$52,881</td>\n",
       "      <td>No</td>\n",
       "      <td>$0</td>\n",
       "      <td>z_No</td>\n",
       "      <td>...</td>\n",
       "      <td>Van</td>\n",
       "      <td>yes</td>\n",
       "      <td>$0</td>\n",
       "      <td>0</td>\n",
       "      <td>No</td>\n",
       "      <td>2</td>\n",
       "      <td>$0</td>\n",
       "      <td>10.0</td>\n",
       "      <td>0</td>\n",
       "      <td>Highly Urban/ Urban</td>\n",
       "    </tr>\n",
       "    <tr>\n",
       "      <th>3</th>\n",
       "      <td>727598473</td>\n",
       "      <td>0</td>\n",
       "      <td>05MAR64</td>\n",
       "      <td>35.0</td>\n",
       "      <td>1</td>\n",
       "      <td>10.0</td>\n",
       "      <td>$16,039</td>\n",
       "      <td>No</td>\n",
       "      <td>$124,191</td>\n",
       "      <td>Yes</td>\n",
       "      <td>...</td>\n",
       "      <td>z_SUV</td>\n",
       "      <td>no</td>\n",
       "      <td>$38,690</td>\n",
       "      <td>2</td>\n",
       "      <td>No</td>\n",
       "      <td>3</td>\n",
       "      <td>$0</td>\n",
       "      <td>10.0</td>\n",
       "      <td>0</td>\n",
       "      <td>Highly Urban/ Urban</td>\n",
       "    </tr>\n",
       "    <tr>\n",
       "      <th>4</th>\n",
       "      <td>450221861</td>\n",
       "      <td>0</td>\n",
       "      <td>05JUN48</td>\n",
       "      <td>51.0</td>\n",
       "      <td>0</td>\n",
       "      <td>14.0</td>\n",
       "      <td>NaN</td>\n",
       "      <td>No</td>\n",
       "      <td>$306,251</td>\n",
       "      <td>Yes</td>\n",
       "      <td>...</td>\n",
       "      <td>Minivan</td>\n",
       "      <td>yes</td>\n",
       "      <td>$0</td>\n",
       "      <td>0</td>\n",
       "      <td>No</td>\n",
       "      <td>0</td>\n",
       "      <td>$0</td>\n",
       "      <td>6.0</td>\n",
       "      <td>0</td>\n",
       "      <td>Highly Urban/ Urban</td>\n",
       "    </tr>\n",
       "  </tbody>\n",
       "</table>\n",
       "<p>5 rows × 27 columns</p>\n",
       "</div>"
      ],
      "text/plain": [
       "          ID  KIDSDRIV    BIRTH   AGE  HOMEKIDS   YOJ   INCOME PARENT1  \\\n",
       "0   63581743         0  16MAR39  60.0         0  11.0  $67,349      No   \n",
       "1  132761049         0  21JAN56  43.0         0  11.0  $91,449      No   \n",
       "2  921317019         0  18NOV51  48.0         0  11.0  $52,881      No   \n",
       "3  727598473         0  05MAR64  35.0         1  10.0  $16,039      No   \n",
       "4  450221861         0  05JUN48  51.0         0  14.0      NaN      No   \n",
       "\n",
       "   HOME_VAL MSTATUS         ...          CAR_TYPE RED_CAR OLDCLAIM  CLM_FREQ  \\\n",
       "0        $0    z_No         ...           Minivan     yes   $4,461         2   \n",
       "1  $257,252    z_No         ...           Minivan     yes       $0         0   \n",
       "2        $0    z_No         ...               Van     yes       $0         0   \n",
       "3  $124,191     Yes         ...             z_SUV      no  $38,690         2   \n",
       "4  $306,251     Yes         ...           Minivan     yes       $0         0   \n",
       "\n",
       "  REVOKED MVR_PTS  CLM_AMT CAR_AGE CLAIM_FLAG           URBANICITY  \n",
       "0      No       3       $0    18.0          0  Highly Urban/ Urban  \n",
       "1      No       0       $0     1.0          0  Highly Urban/ Urban  \n",
       "2      No       2       $0    10.0          0  Highly Urban/ Urban  \n",
       "3      No       3       $0    10.0          0  Highly Urban/ Urban  \n",
       "4      No       0       $0     6.0          0  Highly Urban/ Urban  \n",
       "\n",
       "[5 rows x 27 columns]"
      ]
     },
     "execution_count": 39,
     "metadata": {},
     "output_type": "execute_result"
    }
   ],
   "source": [
    "claims.head()"
   ]
  },
  {
   "cell_type": "markdown",
   "metadata": {},
   "source": [
    "##### Convert some features from currency to float\n",
    "\n",
    "Now it is clear that some interval features such 'INCOME' or 'HOME_VAL' have a currency format. Therefore, we need to convert currency to float:"
   ]
  },
  {
   "cell_type": "code",
   "execution_count": 40,
   "metadata": {
    "collapsed": true
   },
   "outputs": [],
   "source": [
    "# From currency to float\n",
    "for field in ['INCOME', 'HOME_VAL', 'BLUEBOOK', 'OLDCLAIM', 'CLM_AMT']:\n",
    "    claims.loc[:,field] = claims[field] = (claims[field].replace( '[\\$,)]','', regex=True )\n",
    "               .replace( '[(]','-',   regex=True ).astype(float))"
   ]
  },
  {
   "cell_type": "markdown",
   "metadata": {},
   "source": [
    "##### Drop unuseful features\n",
    "\n",
    "There are some variables that are unuseful in this context, we can drop them:"
   ]
  },
  {
   "cell_type": "code",
   "execution_count": 41,
   "metadata": {
    "collapsed": false
   },
   "outputs": [],
   "source": [
    "claims = claims.drop(['ID','BIRTH','CLAIM_FLAG'], axis=1)"
   ]
  },
  {
   "cell_type": "markdown",
   "metadata": {},
   "source": [
    "##### Treatment of missing observations\n",
    "\n",
    "Let's take a look to the missing observations:"
   ]
  },
  {
   "cell_type": "code",
   "execution_count": 42,
   "metadata": {
    "collapsed": false
   },
   "outputs": [
    {
     "data": {
      "text/plain": [
       "KIDSDRIV        0\n",
       "AGE             7\n",
       "HOMEKIDS        0\n",
       "YOJ           548\n",
       "INCOME        570\n",
       "PARENT1         0\n",
       "HOME_VAL      575\n",
       "MSTATUS         0\n",
       "GENDER          0\n",
       "EDUCATION       0\n",
       "OCCUPATION    665\n",
       "TRAVTIME        0\n",
       "CAR_USE         0\n",
       "BLUEBOOK        0\n",
       "TIF             0\n",
       "CAR_TYPE        0\n",
       "RED_CAR         0\n",
       "OLDCLAIM        0\n",
       "CLM_FREQ        0\n",
       "REVOKED         0\n",
       "MVR_PTS         0\n",
       "CLM_AMT         0\n",
       "CAR_AGE       639\n",
       "URBANICITY      0\n",
       "dtype: int64"
      ]
     },
     "execution_count": 42,
     "metadata": {},
     "output_type": "execute_result"
    }
   ],
   "source": [
    "claims.isnull().sum()"
   ]
  },
  {
   "cell_type": "markdown",
   "metadata": {},
   "source": [
    "There are some variables with few missing observations. The features 'YOJ','INCOME', 'HOME_VAL' and 'CAR_AGE' are interval features, it is easy to replace the missed observations with the mean of the variable:"
   ]
  },
  {
   "cell_type": "code",
   "execution_count": 43,
   "metadata": {
    "collapsed": true
   },
   "outputs": [],
   "source": [
    "# Inputation for interval features\n",
    "for field in ['AGE','YOJ','INCOME','HOME_VAL','CAR_AGE']:\n",
    "    claims.loc[:,field] = claims.fillna(claims.mean()[field])"
   ]
  },
  {
   "cell_type": "markdown",
   "metadata": {},
   "source": [
    "the 'OCCUPATION' column is categorical. In order to fill NaNs with the most frequent value from the categorical 'OCCUPATION' column:"
   ]
  },
  {
   "cell_type": "code",
   "execution_count": 44,
   "metadata": {
    "collapsed": true
   },
   "outputs": [],
   "source": [
    "claims = claims.fillna(claims['OCCUPATION'].value_counts().index[0])"
   ]
  },
  {
   "cell_type": "markdown",
   "metadata": {},
   "source": [
    "##### Transform some features from continuous to categorical\n",
    "\n",
    "The following features 'KIDSDRIV', 'HOMEKIDS' and 'CLM_FREQ' are continuous in our dataset. We need to convert this variables into a string type because has no sense to treat these variables as continuous:"
   ]
  },
  {
   "cell_type": "code",
   "execution_count": 45,
   "metadata": {
    "collapsed": true
   },
   "outputs": [],
   "source": [
    "claims[['KIDSDRIV','HOMEKIDS','CLM_FREQ']] = claims[['KIDSDRIV','HOMEKIDS','CLM_FREQ']].astype(str)"
   ]
  },
  {
   "cell_type": "markdown",
   "metadata": {},
   "source": [
    "##### Transform some categorical features into dummy variables\n",
    "Before transforming the categorical features into dummy variables, let's first explore the distributions of some of the categorical variables:"
   ]
  },
  {
   "cell_type": "code",
   "execution_count": 48,
   "metadata": {
    "collapsed": false
   },
   "outputs": [
    {
     "data": {
      "image/png": "[encoded data removed]",
      "text/plain": [
       "<matplotlib.figure.Figure at 0x113620390>"
      ]
     },
     "metadata": {},
     "output_type": "display_data"
    }
   ],
   "source": [
    "plt.figure(figsize = (12, 8))\n",
    "\n",
    "sns.countplot(x = \"CAR_TYPE\", data = claims)\n",
    "plt.ylabel('Count', fontsize = 16)\n",
    "plt.xlabel('CAR_TYPE', fontsize = 16)\n",
    "plt.tick_params(labelsize = 14)\n",
    "plt.title(\"Frequency of Car Type\", fontsize = 18)\n",
    "plt.show()"
   ]
  },
  {
   "cell_type": "code",
   "execution_count": 49,
   "metadata": {
    "collapsed": false
   },
   "outputs": [
    {
     "data": {
      "image/png": "[encoded data removed]",
      "text/plain": [
       "<matplotlib.figure.Figure at 0x113451f90>"
      ]
     },
     "metadata": {},
     "output_type": "display_data"
    }
   ],
   "source": [
    "plt.figure(figsize = (12, 8))\n",
    "\n",
    "sns.countplot(x = \"OCCUPATION\", data = claims)\n",
    "plt.ylabel('Count', fontsize = 16)\n",
    "plt.xlabel('OCCUPATION', fontsize = 16)\n",
    "plt.tick_params(labelsize = 14)\n",
    "plt.title(\"Frequency of Car Type\", fontsize = 18)\n",
    "plt.show()"
   ]
  },
  {
   "cell_type": "markdown",
   "metadata": {},
   "source": [
    "We can also check how the `CLM_AMT` changes based on `CAR_TYPE`. It seems that Sports Cars have the most amount of claims on average."
   ]
  },
  {
   "cell_type": "code",
   "execution_count": 52,
   "metadata": {
    "collapsed": false
   },
   "outputs": [
    {
     "data": {
      "image/png": "[encoded data removed]",
      "text/plain": [
       "<matplotlib.figure.Figure at 0x116611350>"
      ]
     },
     "metadata": {},
     "output_type": "display_data"
    }
   ],
   "source": [
    "plt.figure(figsize = (12, 8))\n",
    "sns.boxplot(x = \"CAR_TYPE\", y = \"CLM_AMT\", data = claims)\n",
    "plt.ylabel('CLM_AMT', fontsize = 12)\n",
    "plt.ylim(0, 20000)\n",
    "plt.xlabel('OCCUPATION', fontsize = 12)\n",
    "plt.tick_params(labelsize = 14)\n",
    "plt.title(\"Claim Count vs. Occupation\", fontsize = 16)\n",
    "plt.show()"
   ]
  },
  {
   "cell_type": "markdown",
   "metadata": {},
   "source": [
    "Here we have some categorical variables like 'KIDSDRIV' or 'CAR_TYPE'. To include these in our model, we'll need to make dummy variables. This is simple to do with Pandas thanks to `get_dummies()`. "
   ]
  },
  {
   "cell_type": "code",
   "execution_count": 12,
   "metadata": {
    "collapsed": false
   },
   "outputs": [],
   "source": [
    "dummy_fields = ['KIDSDRIV','HOMEKIDS','PARENT1','MSTATUS','GENDER','EDUCATION',\\\n",
    "                'OCCUPATION','CAR_USE','CAR_TYPE','RED_CAR','CLM_FREQ','REVOKED',\\\n",
    "                'URBANICITY']\n",
    "for each in dummy_fields:\n",
    "    dummies = pd.get_dummies(claims[each], prefix=each, drop_first=False)\n",
    "    claims = pd.concat([claims, dummies], axis=1)\n",
    "\n",
    "fields_to_drop = ['KIDSDRIV','HOMEKIDS','PARENT1','MSTATUS','GENDER','EDUCATION',\\\n",
    "                  'OCCUPATION','CAR_USE','CAR_TYPE','RED_CAR','CLM_FREQ','REVOKED',\\\n",
    "                  'URBANICITY']\n",
    "claims = claims.drop(fields_to_drop, axis=1)"
   ]
  },
  {
   "cell_type": "markdown",
   "metadata": {},
   "source": [
    "Let's check how many variables we have now:"
   ]
  },
  {
   "cell_type": "code",
   "execution_count": 13,
   "metadata": {
    "collapsed": false
   },
   "outputs": [
    {
     "name": "stdout",
     "output_type": "stream",
     "text": [
      "<class 'pandas.core.frame.DataFrame'>\n",
      "RangeIndex: 10302 entries, 0 to 10301\n",
      "Data columns (total 61 columns):\n",
      "AGE                                 10302 non-null float64\n",
      "YOJ                                 10302 non-null float64\n",
      "INCOME                              10302 non-null float64\n",
      "HOME_VAL                            10302 non-null float64\n",
      "TRAVTIME                            10302 non-null int64\n",
      "BLUEBOOK                            10302 non-null float64\n",
      "TIF                                 10302 non-null int64\n",
      "OLDCLAIM                            10302 non-null float64\n",
      "MVR_PTS                             10302 non-null int64\n",
      "CLM_AMT                             10302 non-null float64\n",
      "CAR_AGE                             10302 non-null float64\n",
      "KIDSDRIV_0                          10302 non-null uint8\n",
      "KIDSDRIV_1                          10302 non-null uint8\n",
      "KIDSDRIV_2                          10302 non-null uint8\n",
      "KIDSDRIV_3                          10302 non-null uint8\n",
      "KIDSDRIV_4                          10302 non-null uint8\n",
      "HOMEKIDS_0                          10302 non-null uint8\n",
      "HOMEKIDS_1                          10302 non-null uint8\n",
      "HOMEKIDS_2                          10302 non-null uint8\n",
      "HOMEKIDS_3                          10302 non-null uint8\n",
      "HOMEKIDS_4                          10302 non-null uint8\n",
      "HOMEKIDS_5                          10302 non-null uint8\n",
      "PARENT1_No                          10302 non-null uint8\n",
      "PARENT1_Yes                         10302 non-null uint8\n",
      "MSTATUS_Yes                         10302 non-null uint8\n",
      "MSTATUS_z_No                        10302 non-null uint8\n",
      "GENDER_M                            10302 non-null uint8\n",
      "GENDER_z_F                          10302 non-null uint8\n",
      "EDUCATION_<High School              10302 non-null uint8\n",
      "EDUCATION_Bachelors                 10302 non-null uint8\n",
      "EDUCATION_Masters                   10302 non-null uint8\n",
      "EDUCATION_PhD                       10302 non-null uint8\n",
      "EDUCATION_z_High School             10302 non-null uint8\n",
      "OCCUPATION_Clerical                 10302 non-null uint8\n",
      "OCCUPATION_Doctor                   10302 non-null uint8\n",
      "OCCUPATION_Home Maker               10302 non-null uint8\n",
      "OCCUPATION_Lawyer                   10302 non-null uint8\n",
      "OCCUPATION_Manager                  10302 non-null uint8\n",
      "OCCUPATION_Professional             10302 non-null uint8\n",
      "OCCUPATION_Student                  10302 non-null uint8\n",
      "OCCUPATION_z_Blue Collar            10302 non-null uint8\n",
      "CAR_USE_Commercial                  10302 non-null uint8\n",
      "CAR_USE_Private                     10302 non-null uint8\n",
      "CAR_TYPE_Minivan                    10302 non-null uint8\n",
      "CAR_TYPE_Panel Truck                10302 non-null uint8\n",
      "CAR_TYPE_Pickup                     10302 non-null uint8\n",
      "CAR_TYPE_Sports Car                 10302 non-null uint8\n",
      "CAR_TYPE_Van                        10302 non-null uint8\n",
      "CAR_TYPE_z_SUV                      10302 non-null uint8\n",
      "RED_CAR_no                          10302 non-null uint8\n",
      "RED_CAR_yes                         10302 non-null uint8\n",
      "CLM_FREQ_0                          10302 non-null uint8\n",
      "CLM_FREQ_1                          10302 non-null uint8\n",
      "CLM_FREQ_2                          10302 non-null uint8\n",
      "CLM_FREQ_3                          10302 non-null uint8\n",
      "CLM_FREQ_4                          10302 non-null uint8\n",
      "CLM_FREQ_5                          10302 non-null uint8\n",
      "REVOKED_No                          10302 non-null uint8\n",
      "REVOKED_Yes                         10302 non-null uint8\n",
      "URBANICITY_Highly Urban/ Urban      10302 non-null uint8\n",
      "URBANICITY_z_Highly Rural/ Rural    10302 non-null uint8\n",
      "dtypes: float64(8), int64(3), uint8(50)\n",
      "memory usage: 1.4 MB\n"
     ]
    }
   ],
   "source": [
    "claims.info()"
   ]
  },
  {
   "cell_type": "markdown",
   "metadata": {},
   "source": [
    "Now we have 61 variables in our dataset.\n",
    "\n",
    "##### Clean some new features names\n",
    "\n",
    "The 'XGBoost' and the random forest algorithms don't admit special symbols in the feature names such as '<','/' or ','. Therefore, we need to rename those feature names:"
   ]
  },
  {
   "cell_type": "code",
   "execution_count": 14,
   "metadata": {
    "collapsed": true
   },
   "outputs": [],
   "source": [
    "claims = claims.rename(columns={'EDUCATION_<High School': 'EDUCATION_lt_High_School', \n",
    "                        'OCCUPATION_z_Blue Collar': 'OCCUPATION_z_Blue_Collar',\n",
    "                        'CAR_TYPE_Panel Truck': 'CAR_TYPE_Panel_Truck',\n",
    "                        'CAR_TYPE_Sports Car': 'CAR_TYPE_Sports_Car',\n",
    "                        'URBANICITY_Highly Urban/ Urban': 'URBANICITY_Urban',\n",
    "                        'URBANICITY_z_Highly Rural/ Rural': 'URBANICITY_Rural'})"
   ]
  },
  {
   "cell_type": "code",
   "execution_count": 15,
   "metadata": {
    "collapsed": true
   },
   "outputs": [],
   "source": [
    "plot_clm_amt = claims['CLM_AMT']"
   ]
  },
  {
   "cell_type": "markdown",
   "metadata": {
    "collapsed": true
   },
   "source": [
    "##### Scaling target variables\n",
    "\n",
    "To make training the network easier, we'll standardize each of the continuous variables. That is, we'll shift and scale the variables such that they have zero mean and a standard deviation of 1.\n",
    "\n",
    "The scaling factors are saved so we can go backwards when we use the network for predictions."
   ]
  },
  {
   "cell_type": "code",
   "execution_count": 16,
   "metadata": {
    "collapsed": true
   },
   "outputs": [],
   "source": [
    "quant_features = ['AGE', 'YOJ', 'INCOME', 'HOME_VAL', \n",
    "                  'BLUEBOOK', 'OLDCLAIM', 'CLM_AMT', 'CAR_AGE']\n",
    "# Store scalings in a dictionary so we can convert back later\n",
    "scaled_features = {}\n",
    "for each in quant_features:\n",
    "    mean, std = claims[each].mean(), claims[each].std()\n",
    "    scaled_features[each] = [mean, std]\n",
    "    claims.loc[:, each] = (claims[each] - mean)/std"
   ]
  },
  {
   "cell_type": "markdown",
   "metadata": {
    "collapsed": true
   },
   "source": [
    "##### Splitting the data into training, testing, and validation sets\n",
    "We'll save the data for the last approximately 21 days to use as a test set after we've trained the network. We'll use this set to make predictions and compare them with the actual number of riders."
   ]
  },
  {
   "cell_type": "code",
   "execution_count": 17,
   "metadata": {
    "collapsed": false
   },
   "outputs": [],
   "source": [
    "# Split off random 50% of the data for training, 25% for testing and 25% for validation\n",
    "np.random.seed(21)\n",
    "sample = np.random.choice(claims.index, size=int(len(claims)*0.5), replace=False)\n",
    "data, train = claims.ix[sample], claims.drop(sample)\n",
    "\n",
    "sample = np.random.choice(data.index, size=int(len(data)*0.5), replace=False)\n",
    "val, test = data.ix[sample], data.drop(sample)\n",
    "\n",
    "# Split into features and targets\n",
    "features, targets = train.drop('CLM_AMT', axis=1), train['CLM_AMT']\n",
    "features_val, targets_val = val.drop('CLM_AMT', axis=1), val['CLM_AMT']\n",
    "features_test, targets_test = test.drop('CLM_AMT', axis=1), test['CLM_AMT']"
   ]
  },
  {
   "cell_type": "markdown",
   "metadata": {},
   "source": [
    "With this we've finished the data preparation tasks, we are ready to use XGBoost and random forest.\n",
    "\n",
    "### Fitting the model"
   ]
  },
  {
   "cell_type": "markdown",
   "metadata": {},
   "source": [
    "##### Fitting the model\n",
    "Let's fit the XGBoost and the random forest to the data:"
   ]
  },
  {
   "cell_type": "code",
   "execution_count": 18,
   "metadata": {
    "collapsed": false
   },
   "outputs": [
    {
     "data": {
      "text/plain": [
       "XGBRegressor(base_score=0.5, colsample_bylevel=1, colsample_bytree=1, gamma=0,\n",
       "       learning_rate=0.1, max_delta_step=0, max_depth=3,\n",
       "       min_child_weight=1, missing=None, n_estimators=100, nthread=-1,\n",
       "       objective='reg:linear', reg_alpha=0, reg_lambda=1,\n",
       "       scale_pos_weight=1, seed=0, silent=True, subsample=1)"
      ]
     },
     "execution_count": 18,
     "metadata": {},
     "output_type": "execute_result"
    }
   ],
   "source": [
    "# fit XGBoost model to training data\n",
    "xgb_model = XGBRegressor()\n",
    "xgb_model.fit(features, targets)"
   ]
  },
  {
   "cell_type": "code",
   "execution_count": 19,
   "metadata": {
    "collapsed": false
   },
   "outputs": [
    {
     "data": {
      "text/plain": [
       "RandomForestRegressor(bootstrap=True, criterion='mse', max_depth=None,\n",
       "           max_features='auto', max_leaf_nodes=None,\n",
       "           min_impurity_decrease=0.0, min_impurity_split=None,\n",
       "           min_samples_leaf=1, min_samples_split=2,\n",
       "           min_weight_fraction_leaf=0.0, n_estimators=200, n_jobs=1,\n",
       "           oob_score=False, random_state=None, verbose=0, warm_start=False)"
      ]
     },
     "execution_count": 19,
     "metadata": {},
     "output_type": "execute_result"
    }
   ],
   "source": [
    "# fit random forest to training data\n",
    "rf_model = RandomForestRegressor(200)\n",
    "rf_model.fit(features, targets)"
   ]
  },
  {
   "cell_type": "markdown",
   "metadata": {},
   "source": [
    "##### Make predictions for the test data\n",
    "\n",
    "We are now ready to use the trained model to make predictions. We can make predictions using the fit model on the test dataset. To make predictions we use the `scikit-learn` function `model.predict()`."
   ]
  },
  {
   "cell_type": "code",
   "execution_count": 20,
   "metadata": {
    "collapsed": true
   },
   "outputs": [],
   "source": [
    "# make predictions for test data using XGBoost\n",
    "y_pred_xgb = xgb_model.predict(features_test)\n",
    "#predictions = [round(value ,2) for value in y_pred]"
   ]
  },
  {
   "cell_type": "code",
   "execution_count": 21,
   "metadata": {
    "collapsed": true
   },
   "outputs": [],
   "source": [
    "# make predictions for test data using random forest\n",
    "y_pred_rf = rf_model.predict(features_test)\n",
    "#predictions = [round(value ,2) for value in y_pred]"
   ]
  },
  {
   "cell_type": "markdown",
   "metadata": {},
   "source": [
    "##### Evaluate model performance\n",
    "\n",
    "Now that we have used the fit model to make predictions on new data, we can evaluate the performance of the predictions by comparing them to the expected values. For this we will use the built in `mean_absolute_error` function in scikit-learn."
   ]
  },
  {
   "cell_type": "code",
   "execution_count": 22,
   "metadata": {
    "collapsed": false
   },
   "outputs": [
    {
     "name": "stdout",
     "output_type": "stream",
     "text": [
      "XGBoost Score: 0.4036\n"
     ]
    }
   ],
   "source": [
    "# evaluate predictions using XGBoost\n",
    "score = mean_absolute_error(targets_test, y_pred_xgb)\n",
    "print(\"XGBoost Score: %.4f\" % score)"
   ]
  },
  {
   "cell_type": "code",
   "execution_count": 23,
   "metadata": {
    "collapsed": false
   },
   "outputs": [
    {
     "name": "stdout",
     "output_type": "stream",
     "text": [
      "Random forest Score: 0.4297\n"
     ]
    }
   ],
   "source": [
    "# evaluate predictions using random forest\n",
    "score = mean_absolute_error(targets_test, y_pred_rf)\n",
    "print(\"Random forest Score: %.4f\" % score)"
   ]
  },
  {
   "cell_type": "markdown",
   "metadata": {},
   "source": [
    "It is clear that the XGBoost fits the data better than the random forest. The absolute mean error is lower for the XGBoost. Let's go deeper and create a lift chart to compare the model performance from another point of view.\n",
    "\n",
    "##### Create a lift chart to compere model performance\n",
    "\n",
    "A classical chart used to compere regressions models (also classification) is a Lift chart. Let's create both lift charts."
   ]
  },
  {
   "cell_type": "code",
   "execution_count": 24,
   "metadata": {
    "collapsed": true
   },
   "outputs": [],
   "source": [
    "def gini(actual,pred,weight=None):\n",
    "    pdf= pd.DataFrame(scipy.vstack([actual,pred]).T,columns=['Actual','Predicted'],)\n",
    "    pdf= pdf.sort_values('Predicted')\n",
    "    if weight is None:\n",
    "        pdf['Weight'] = 1.0\n",
    "  \n",
    "    pdf['CummulativeWeight'] = np.cumsum(pdf['Weight'])\n",
    "    pdf['CummulativeWeightedActual'] = np.cumsum(pdf['Actual']*pdf['Weight'])\n",
    "    TotalWeight = sum(pdf['Weight'])\n",
    "    Numerator = sum(pdf['CummulativeWeightedActual']*pdf['Weight'])\n",
    "    Denominator = sum(pdf['Actual']*pdf['Weight']*TotalWeight)\n",
    "    Gini = 1.0 - 2.0 * Numerator/Denominator\n",
    "    return Gini "
   ]
  },
  {
   "cell_type": "code",
   "execution_count": 25,
   "metadata": {
    "collapsed": false
   },
   "outputs": [
    {
     "data": {
      "text/plain": [
       "-13.489679386152188"
      ]
     },
     "execution_count": 25,
     "metadata": {},
     "output_type": "execute_result"
    }
   ],
   "source": [
    "gini(targets_test,y_pred_xgb,weight=None)"
   ]
  },
  {
   "cell_type": "code",
   "execution_count": 29,
   "metadata": {
    "collapsed": false
   },
   "outputs": [
    {
     "data": {
      "text/plain": [
       "-13.082823959818159"
      ]
     },
     "execution_count": 29,
     "metadata": {},
     "output_type": "execute_result"
    }
   ],
   "source": [
    "gini(targets_test,y_pred_rf,weight=None)"
   ]
  },
  {
   "cell_type": "code",
   "execution_count": 26,
   "metadata": {
    "collapsed": true
   },
   "outputs": [],
   "source": [
    "import matplotlib.pyplot as plt\n",
    "\n",
    "def mylift(actual, pred, weight = None, n = 10, \n",
    "           xlab = 'Predicted Decile', MyTitle = 'Model Performance Lift Chart'):\n",
    "    pdf = pd.DataFrame(scipy.vstack([actual, pred]).T, columns = ['Actual', 'Predicted'],)\n",
    "    pdf = pdf.sort_values(by = ['Predicted'])\n",
    "    \n",
    "    # Weights\n",
    "    if weight is None:\n",
    "        pdf['Weight'] = 1.0\n",
    "  \n",
    "    pdf['CummulativeWeight'] = np.cumsum(pdf['Weight'])\n",
    "    pdf['CummulativeWeightedActual'] = np.cumsum(pdf['Actual'] * pdf['Weight'])\n",
    "    TotalWeight = sum(pdf['Weight'])\n",
    "    Numerator = sum(pdf['CummulativeWeightedActual'] * pdf['Weight'])\n",
    "    Denominator = sum(pdf['Actual']*pdf['Weight'] * TotalWeight)\n",
    "    Gini = 1.0 - 2.0 * Numerator/ Denominator\n",
    "    NormalizedGini = Gini/ gini(pdf['Actual'], pdf['Actual'])\n",
    "    GiniTitle = 'Normalized Gini = '+ str(round(NormalizedGini, 4))\n",
    "    \n",
    "    pdf['PredictedDecile'] = np.round(pdf['CummulativeWeight'] * n /TotalWeight + 0.5, decimals = 0)\n",
    "    pdf['PredictedDecile'][pdf['PredictedDecile'] < 1.0] = 1.0\n",
    "    pdf['PredictedDecile'][pdf['PredictedDecile'] > n] = n \n",
    "    \n",
    "    pdf['WeightedPrediction'] = pdf['Predicted'] * pdf['Weight']\n",
    "    pdf['WeightedActual'] = pdf['Actual'] * pdf['Weight']\n",
    "    lift_df = pdf.groupby('PredictedDecile').agg({'WeightedPrediction': np.sum,'Weight':np.sum,'WeightedActual':np.sum,'PredictedDecile':np.size})\n",
    "    nms = lift_df.columns.values\n",
    "    nms[1] = 'Count'\n",
    "    lift_df.columns = nms\n",
    "    lift_df['AveragePrediction'] = lift_df['WeightedPrediction']/lift_df['Weight']\n",
    "    lift_df['AverageActual'] = lift_df['WeightedActual']/lift_df['Weight']\n",
    "    lift_df['AverageError'] = lift_df['AverageActual']/lift_df['AveragePrediction']\n",
    "    \n",
    "    d = pd.DataFrame(lift_df.index)\n",
    "    p = lift_df['AveragePrediction']\n",
    "    a = lift_df['AverageActual']\n",
    "    \n",
    "    # Plot\n",
    "    fig, ax = plt.subplots(figsize = (10, 6))\n",
    "    plt.plot(p, label = 'Predicted', color = 'red', marker = 'o')\n",
    "    plt.plot(a, label = 'Actual', color = 'black', marker = 'd')\n",
    "    plt.legend(['Predicted', 'Actual'], loc = 2, prop = {'size': 18})\n",
    "    plt.xlabel(xlab, fontsize = 18)\n",
    "    plt.title(MyTitle, fontsize = 20)\n",
    "    plt.tick_params(labelsize = 18)\n",
    "    plt.grid(color = 'snow', linestyle = '--')\n",
    "    plt.show()"
   ]
  },
  {
   "cell_type": "code",
   "execution_count": 27,
   "metadata": {
    "collapsed": false
   },
   "outputs": [
    {
     "data": {
      "image/png": "[encoded data removed]",
      "text/plain": [
       "<matplotlib.figure.Figure at 0x11137aed0>"
      ]
     },
     "metadata": {},
     "output_type": "display_data"
    }
   ],
   "source": [
    "mylift(targets_test, \n",
    "       y_pred_xgb, \n",
    "       weight = None, \n",
    "       n = 10, \n",
    "       xlab = 'Predicted Decile',\n",
    "       MyTitle = 'Lift Chart - XGBoost')"
   ]
  },
  {
   "cell_type": "code",
   "execution_count": 28,
   "metadata": {
    "collapsed": false
   },
   "outputs": [
    {
     "data": {
      "image/png": "[encoded data removed]",
      "text/plain": [
       "<matplotlib.figure.Figure at 0x10d83bc50>"
      ]
     },
     "metadata": {},
     "output_type": "display_data"
    }
   ],
   "source": [
    "mylift(targets_test,\n",
    "       y_pred_rf,\n",
    "       weight = None,\n",
    "       n = 10,\n",
    "       xlab='Predicted Decile',\n",
    "       MyTitle = 'Lift Chart - Random Forest')"
   ]
  },
  {
   "cell_type": "markdown",
   "metadata": {},
   "source": [
    "Although the random forest fits the data better than the XGBoost for the first nine percentiles, the XGBoost fits much better the tenth percentile. This is interesting because fitting a risk premium model is quite difficult because the great majority of the policies has no claim and therefore, the loss is zero as you can see in this image:"
   ]
  },
  {
   "cell_type": "code",
   "execution_count": 32,
   "metadata": {
    "collapsed": false
   },
   "outputs": [
    {
     "data": {
      "image/png": "[encoded data removed]",
      "text/plain": [
       "<matplotlib.figure.Figure at 0x119c5cd90>"
      ]
     },
     "metadata": {},
     "output_type": "display_data"
    }
   ],
   "source": [
    "# the histogram of the data\n",
    "plt.figure(figsize = (12, 8))\n",
    "sns.distplot(plot_clm_amt, bins = 50, kde = False, color = \"mediumseagreen\")\n",
    "plt.xlabel('Claim Count', fontsize = 18)\n",
    "plt.xlim(0, 10)\n",
    "plt.show()"
   ]
  },
  {
   "cell_type": "markdown",
   "metadata": {},
   "source": [
    "The policies with positive claims are in the tenth decile. The random forest performs really bad for the policies with positive claims. \n",
    "\n",
    "Here we can see the distribution of the risk premium in our dataset:"
   ]
  }
 ],
 "metadata": {
  "anaconda-cloud": {},
  "kernelspec": {
   "display_name": "Python 2",
   "language": "python",
   "name": "python2"
  },
  "language_info": {
   "codemirror_mode": {
    "name": "ipython",
    "version": 2
   },
   "file_extension": ".py",
   "mimetype": "text/x-python",
   "name": "python",
   "nbconvert_exporter": "python",
   "pygments_lexer": "ipython2",
   "version": "2.7.13"
  }
 },
 "nbformat": 4,
 "nbformat_minor": 0
}
